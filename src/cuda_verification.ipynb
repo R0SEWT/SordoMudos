{
 "cells": [
  {
   "cell_type": "markdown",
   "metadata": {},
   "source": [
    "# CUDA Verification Notebook\n",
    "Este notebook verifica la disponibilidad de CUDA y la configuracion del entorno para trabajar con GPUs.\n",
    "\n",
    "---\n",
    "Ejecutar el cuaderno creara logs con el status de CUDA, hardware y una pequena prueba de rendimiento..\n"
   ]
  },
  {
   "cell_type": "code",
   "execution_count": 1,
   "metadata": {},
   "outputs": [],
   "source": [
    "import torch\n",
    "import time\n",
    "import logging\n",
    "\n",
    "logging.basicConfig(\n",
    "    filename=\"./logs/cuda_verification_benchmark.log\",  # Nombre del archivo de log\n",
    "    filemode=\"a\",  # Modo de apertura en append para no sobrescribir\n",
    "    level=logging.INFO,\n",
    "    format=\"%(asctime)s - %(levelname)s - %(message)s\",\n",
    "    datefmt=\"%Y-%m-%d %H:%M:%S\",\n",
    ")\n"
   ]
  },
  {
   "cell_type": "markdown",
   "metadata": {},
   "source": [
    "## Verificación de Disponibilidad de CUDA"
   ]
  },
  {
   "cell_type": "code",
   "execution_count": 2,
   "metadata": {},
   "outputs": [
    {
     "name": "stdout",
     "output_type": "stream",
     "text": [
      "✅ CUDA está disponible en este entorno.\n"
     ]
    }
   ],
   "source": [
    "# Comprobamos si CUDA está disponible\n",
    "if torch.cuda.is_available():\n",
    "    print(\"✅ CUDA está disponible en este entorno.\")\n",
    "else:\n",
    "    print(\"⚠️ CUDA no está disponible. Asegúrate de que tu entorno esté configurado correctamente.\")\n"
   ]
  },
  {
   "cell_type": "markdown",
   "metadata": {},
   "source": [
    "## Información Detallada de la GPU\n"
   ]
  },
  {
   "cell_type": "code",
   "execution_count": 3,
   "metadata": {},
   "outputs": [
    {
     "name": "stdout",
     "output_type": "stream",
     "text": [
      "Nombre del dispositivo: NVIDIA GeForce RTX 3060\n",
      "Memoria total: 12.61 GB\n",
      "Número de multiprocesadores: 28\n"
     ]
    }
   ],
   "source": [
    "def check_cuda():\n",
    "    if torch.cuda.is_available():\n",
    "        device = torch.device(\"cuda\")\n",
    "        device_properties = torch.cuda.get_device_properties(0)\n",
    "        gpu_name = device_properties.name\n",
    "        total_memory = device_properties.total_memory / 1e9  # en GB\n",
    "        multi_processors = device_properties.multi_processor_count\n",
    "\n",
    "        message = (f\"Nombre del dispositivo: {gpu_name}\\n\"\n",
    "                   f\"Memoria total: {total_memory:.2f} GB\\n\"\n",
    "                   f\"Número de multiprocesadores: {multi_processors}\")    \n",
    "    else:\n",
    "        message = \"Sin GPU disponible.\"\n",
    "\n",
    "    print(message)\n",
    "    logging.info(message)\n",
    "    return device\n",
    "device = check_cuda()"
   ]
  },
  {
   "cell_type": "markdown",
   "metadata": {},
   "source": [
    "## Pruebas de Rendimiento Básico\n",
    "Para verificar el rendimiento de la GPU, realizamos una operación de multiplicación de matrices en CUDA y medimos el tiempo de ejecución.\n"
   ]
  },
  {
   "cell_type": "code",
   "execution_count": 4,
   "metadata": {},
   "outputs": [
    {
     "name": "stdout",
     "output_type": "stream",
     "text": [
      "Tiempo de multiplicación de matrices en GPU: 0.039316 segundos\n"
     ]
    }
   ],
   "source": [
    "# Realizamos una operación básica en GPU para medir el rendimiento\n",
    "if torch.cuda.is_available():\n",
    "    x = torch.rand((1000, 1000), device=device)\n",
    "    y = torch.rand((1000, 1000), device=device)\n",
    "\n",
    "    # Medimos el tiempo de una multiplicación de matrices en la GPU\n",
    "    start_time = time.time()\n",
    "    result = torch.matmul(x, y)\n",
    "    end_time = time.time()\n",
    "\n",
    "    execution_time = end_time - start_time\n",
    "    print(f\"Tiempo de multiplicación de matrices en GPU: {execution_time:.6f} segundos\")\n",
    "    logging.info(f\"Tiempo de multiplicación de matrices en GPU: {execution_time:.6f} segundos\")\n",
    "else:\n",
    "    logging.warning(\"Multiplicación de matrices en GPU omitida ya que CUDA no está disponible.\")\n"
   ]
  }
 ],
 "metadata": {
  "kernelspec": {
   "display_name": "img",
   "language": "python",
   "name": "python3"
  },
  "language_info": {
   "codemirror_mode": {
    "name": "ipython",
    "version": 3
   },
   "file_extension": ".py",
   "mimetype": "text/x-python",
   "name": "python",
   "nbconvert_exporter": "python",
   "pygments_lexer": "ipython3",
   "version": "3.12.7"
  }
 },
 "nbformat": 4,
 "nbformat_minor": 2
}
