{
 "cells": [
  {
   "cell_type": "code",
   "execution_count": 4,
   "metadata": {},
   "outputs": [],
   "source": [
    "import torch\n",
    "import torch.nn as nn\n",
    "import torch.nn.functional as F"
   ]
  },
  {
   "cell_type": "code",
   "execution_count": null,
   "metadata": {},
   "outputs": [],
   "source": [
    "input_size = (224, 224)  # Ajusta según tus necesidades\n",
    "num_classes = 10         # Número de clases de salida\n",
    "\n",
    "model_name = 'rustic'  # Cambia a 'rustic' para probar RusticModel"
   ]
  },
  {
   "cell_type": "code",
   "execution_count": 5,
   "metadata": {},
   "outputs": [],
   "source": [
    "class RusticModel(nn.Module):\n",
    "    def __init__(self, num_classes):\n",
    "        super(RusticModel, self).__init__()\n",
    "        \n",
    "        # Definición de capas convolucionales\n",
    "        self.red_conv = nn.Sequential(\n",
    "            nn.Conv2d(1, 32, kernel_size=5, stride=1, padding=2),  # Capa 1\n",
    "            nn.ReLU(),\n",
    "            nn.BatchNorm2d(32),\n",
    "            nn.MaxPool2d(kernel_size=2, stride=2),\n",
    "\n",
    "            nn.Conv2d(32, 64, kernel_size=3, stride=1, padding=1),  # Capa 2\n",
    "            nn.ReLU(),\n",
    "            nn.BatchNorm2d(64),\n",
    "            nn.MaxPool2d(kernel_size=2, stride=2),\n",
    "            \n",
    "            nn.Conv2d(64, 128, kernel_size=3, stride=1, padding=1),  # Capa 3\n",
    "            nn.ReLU(),\n",
    "            nn.BatchNorm2d(128),\n",
    "            nn.MaxPool2d(kernel_size=2, stride=2),\n",
    "            \n",
    "            nn.Conv2d(128, 256, kernel_size=3, stride=1, padding=1),  # Capa 4\n",
    "            nn.ReLU(),\n",
    "            nn.BatchNorm2d(256),\n",
    "            nn.MaxPool2d(kernel_size=2, stride=2)\n",
    "        )\n",
    "\n",
    "        # Capa de aplanado y fully connected\n",
    "        self.flatten = nn.Flatten()\n",
    "        self.fc1 = nn.Linear(256 * 14 * 14, 256)  # Cambiado a 14x14\n",
    "        self.dropout = nn.Dropout(0.30)\n",
    "        self.fc2 = nn.Linear(256, num_classes)\n",
    "    \n",
    "    def forward(self, x):\n",
    "        x = x / 255.0  # Normalización de entrada\n",
    "        x = self.red_conv(x)\n",
    "        x = self.flatten(x)\n",
    "        x = F.relu(self.fc1(x))\n",
    "        x = self.dropout(x)\n",
    "        x = self.fc2(x)\n",
    "        return x\n"
   ]
  },
  {
   "cell_type": "code",
   "execution_count": 6,
   "metadata": {},
   "outputs": [],
   "source": [
    "class ViTModel(nn.Module):\n",
    "    def __init__(self, num_classes, embed_dim=128, num_layers=6, num_heads=8, dropout_rate=0.1):\n",
    "        super(ViTModel, self).__init__()\n",
    "        \n",
    "        # Tamaño del parche y validación\n",
    "        self.patch_size = 8\n",
    "        if input_size[0] % self.patch_size != 0 or input_size[1] % self.patch_size != 0:\n",
    "            raise ValueError(\"El tamaño de entrada debe ser divisible por el tamaño del parche.\")\n",
    "        \n",
    "        self.embed_dim = embed_dim\n",
    "        self.num_patches = (input_size[0] // self.patch_size) * (input_size[1] // self.patch_size)\n",
    "        \n",
    "        # Embedding de parches\n",
    "        self.patch_embeddings = nn.Conv2d(1, embed_dim, kernel_size=self.patch_size, stride=self.patch_size)\n",
    "        \n",
    "        # Transformer Encoder\n",
    "        self.transformer_layers = nn.ModuleList([\n",
    "            nn.TransformerEncoderLayer(d_model=embed_dim, nhead=num_heads, dropout=dropout_rate)\n",
    "            for _ in range(num_layers)\n",
    "        ])\n",
    "        \n",
    "        # Capa de salida\n",
    "        self.fc = nn.Linear(embed_dim, num_classes)\n",
    "        \n",
    "    def forward(self, x):\n",
    "        x = self.patch_embeddings(x)\n",
    "        x = x.flatten(2).transpose(1, 2)\n",
    "        \n",
    "        for layer in self.transformer_layers:\n",
    "            x = layer(x)\n",
    "        \n",
    "        x = x.mean(dim=1)\n",
    "        return self.fc(x)\n"
   ]
  },
  {
   "cell_type": "code",
   "execution_count": 7,
   "metadata": {},
   "outputs": [],
   "source": [
    "def get_model(model_name, num_classes):\n",
    "    if model_name == 'rustic':\n",
    "        return RusticModel(num_classes)\n",
    "    elif model_name == 'vit':\n",
    "        return ViTModel(num_classes)\n",
    "    else:\n",
    "        raise ValueError(\"Modelo desconocido: selecciona 'rustic' o 'vit'\")\n"
   ]
  },
  {
   "cell_type": "code",
   "execution_count": null,
   "metadata": {},
   "outputs": [],
   "source": [
    "# Crear instancia del modelo\n",
    "model = get_model(model_name, num_classes)\n",
    "\n",
    "# Prueba con datos de entrada simulados\n",
    "sample_data = torch.randn(4, 1, *input_size)\n",
    "output = model(sample_data)\n",
    "print(f\"Modelo {model_name}: Output shape:\", output.shape)"
   ]
  }
 ],
 "metadata": {
  "kernelspec": {
   "display_name": "img",
   "language": "python",
   "name": "python3"
  },
  "language_info": {
   "codemirror_mode": {
    "name": "ipython",
    "version": 3
   },
   "file_extension": ".py",
   "mimetype": "text/x-python",
   "name": "python",
   "nbconvert_exporter": "python",
   "pygments_lexer": "ipython3",
   "version": "3.12.7"
  }
 },
 "nbformat": 4,
 "nbformat_minor": 2
}
