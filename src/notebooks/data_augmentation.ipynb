{
 "cells": [
  {
   "cell_type": "markdown",
   "metadata": {},
   "source": [
    "# Aumento de Datos en Imágenes\n",
    "Este notebook realiza aumentos de datos en imágenes, incluyendo rotación y escalado, y guarda las imágenes aumentadas en una estructura de carpetas.\n",
    "\n",
    "## Importación de Bibliotecas\n",
    "Primero, importamos las bibliotecas necesarias para realizar los aumentos de datos.\n"
   ]
  },
  {
   "cell_type": "code",
   "execution_count": 1,
   "metadata": {},
   "outputs": [],
   "source": [
    "# Importación de bibliotecas\n",
    "import os\n",
    "import cv2\n",
    "import numpy as np\n",
    "import logging\n",
    "\n",
    "for handler in logging.root.handlers[:]:\n",
    "    logging.root.removeHandler(handler)\n",
    "\n",
    "\n",
    "# Configuración del logging\n",
    "logging.basicConfig(\n",
    "    filename=\"./logs/data_augmentation.log\",\n",
    "    filemode=\"a\",\n",
    "    level=logging.INFO,\n",
    "    format=\"%(asctime)s - %(levelname)s - %(message)s\",\n",
    "    datefmt=\"%Y-%m-%d %H:%M:%S\",\n",
    ")\n",
    "logging.info(\"Inicio del notebook de aumento de datos.\")\n"
   ]
  },
  {
   "cell_type": "markdown",
   "metadata": {},
   "source": [
    "## Función: Guardar Imágenes\n",
    "Esta función guarda una imagen redimensionada en un directorio especificado, estructurado por etiquetas.\n"
   ]
  },
  {
   "cell_type": "code",
   "execution_count": 2,
   "metadata": {},
   "outputs": [],
   "source": [
    "def save_image(image, label, img_name, output_dir, target_size=(224, 224)):\n",
    "    # Crear directorio basado en la etiqueta\n",
    "    label_dir = os.path.join(output_dir, label)\n",
    "    os.makedirs(label_dir, exist_ok=True)\n",
    "    \n",
    "    # Redimensionar y guardar la imagen\n",
    "    img_path = os.path.join(label_dir, img_name)\n",
    "    resized_img = cv2.resize(image, target_size)\n",
    "    cv2.imwrite(img_path, resized_img)\n",
    "    logging.info(f\"Imagen guardada en: {img_path}\")\n"
   ]
  },
  {
   "cell_type": "markdown",
   "metadata": {},
   "source": [
    "## Función: Aumento de Datos\n",
    "La función `data_augmented` realiza aumentos de datos en una imagen, aplicando rotación y escalado. Las imágenes aumentadas se guardan usando `save_image`.\n"
   ]
  },
  {
   "cell_type": "code",
   "execution_count": 3,
   "metadata": {},
   "outputs": [],
   "source": [
    "def data_augmented(image, label, img_base_name, output_dir, target_size=(224, 224)):\n",
    "    augmented_imgs = []\n",
    "\n",
    "    def augmented_rotate(img, angle):\n",
    "        h, w = img.shape[:2]\n",
    "        M = cv2.getRotationMatrix2D((w // 2, h // 2), angle, 1.0)\n",
    "        rotated_img = cv2.warpAffine(img, M, (w, h))\n",
    "        rotated_img = cv2.resize(rotated_img, target_size)\n",
    "        augmented_imgs.append(rotated_img)\n",
    "        save_image(rotated_img, label, img_base_name + f\"_r{angle}.jpg\", output_dir)\n",
    "        logging.info(f\"Imagen rotada {angle} grados y guardada.\")\n",
    "\n",
    "    def augmented_escale(img, scale):\n",
    "        scaled_image = cv2.resize(img, None, fx=scale, fy=scale)\n",
    "        scaled_image = cv2.resize(scaled_image, target_size)\n",
    "        augmented_imgs.append(scaled_image)\n",
    "        save_image(scaled_image, label, img_base_name + f\"_s{scale}.jpg\", output_dir)\n",
    "        logging.info(f\"Imagen escalada con factor {scale} y guardada.\")\n",
    "\n",
    "    def augmented_bright(img, bright):\n",
    "        bright_img = cv2.convertScaleAbs(image, alpha=1, beta=bright)\n",
    "        bright_img = cv2.resize(bright_img, target_size)  \n",
    "        augmented_imgs.append(bright_img)\n",
    "        save_image(bright_img, label, img_base_name + \"_b.jpg\", output_dir)\n",
    "    \n",
    "    def augmented_noise(img):\n",
    "        noise = np.random.normal(0, 25, image.shape).astype(np.uint8) # gaussian_noise\n",
    "        noisy_image = cv2.add(image, noise)\n",
    "        noisy_image = cv2.resize(noisy_image, target_size)  \n",
    "        augmented_imgs.append(noisy_image)\n",
    "        save_image(noisy_image, label, img_base_name + \"_n.jpg\", output_dir)\n",
    "\n",
    "\n",
    "    # Aplicamos la rotación aleatoria\n",
    "    angle = np.random.uniform(-30, 30)\n",
    "    #augmented_rotate(image, angle)\n",
    "\n",
    "    # Escalamiento de las imágenes\n",
    "    scale = np.random.uniform(0.8, 1.2)\n",
    "    #augmented_escale(image, scale)\n",
    "    \n",
    "    # Ajuste de brillo aleatorio\n",
    "    bright = np.random.randint(-50, 50)\n",
    "    #augmented_bright(image, bright)\n",
    "    return augmented_imgs\n"
   ]
  },
  {
   "cell_type": "code",
   "execution_count": 4,
   "metadata": {},
   "outputs": [],
   "source": [
    "def load_images(data_dir, output_dir='augmented_images', target_size=(224, 224)):\n",
    "    images = []\n",
    "    labels = []\n",
    "\n",
    "    # Crea el directorio de salida si no existe\n",
    "    os.makedirs(output_dir, exist_ok=True)\n",
    "\n",
    "    for label in os.listdir(data_dir):\n",
    "        label_dir = os.path.join(data_dir, label)\n",
    "\n",
    "        if os.path.isdir(label_dir):\n",
    "            for img_file in os.listdir(label_dir):\n",
    "                img_path = os.path.join(label_dir, img_file)\n",
    "                # Solo carga archivos de imagen\n",
    "                if img_file.lower().endswith(('.png', '.jpg', '.jpeg', '.gif')):\n",
    "                    img = cv2.imread(img_path)\n",
    "                    img = cv2.resize(img, target_size)\n",
    "\n",
    "                    # Agregamos la imagen original a la memoria\n",
    "                    images.append(img)\n",
    "                    labels.append(label)\n",
    "\n",
    "                    # Guardamos la imagen original en el directorio generado\n",
    "                    img_base_name = os.path.splitext(img_file)[0]\n",
    "                    save_image(img, label, img_base_name + \"_original.jpg\", output_dir)\n",
    "\n",
    "                    # Generamos imágenes aumentadas y las guardamos\n",
    "                    augmented_imgs = data_augmented(img, label, img_base_name, output_dir)\n",
    "\n",
    "                    images.extend(augmented_imgs)\n",
    "                    labels.extend([label] * len(augmented_imgs))\n",
    "\n",
    "    return images, labels\n"
   ]
  }
 ],
 "metadata": {
  "kernelspec": {
   "display_name": "img",
   "language": "python",
   "name": "python3"
  },
  "language_info": {
   "codemirror_mode": {
    "name": "ipython",
    "version": 3
   },
   "file_extension": ".py",
   "mimetype": "text/x-python",
   "name": "python",
   "nbconvert_exporter": "python",
   "pygments_lexer": "ipython3",
   "version": "3.12.7"
  }
 },
 "nbformat": 4,
 "nbformat_minor": 2
}
