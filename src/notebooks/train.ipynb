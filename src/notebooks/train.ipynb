{
 "cells": [
  {
   "cell_type": "code",
   "execution_count": 12,
   "metadata": {},
   "outputs": [],
   "source": [
    "!pip install import_ipynb --quiet"
   ]
  },
  {
   "cell_type": "code",
   "execution_count": 13,
   "metadata": {},
   "outputs": [],
   "source": [
    "import os\n",
    "import torch\n",
    "import time\n",
    "import logging\n",
    "from pyinstrument import Profiler\n",
    "import torch.nn as nn\n",
    "import torch.optim as optim\n",
    "from torch.utils.data import DataLoader, TensorDataset\n",
    "from torch.optim.lr_scheduler import StepLR\n",
    "import import_ipynb\n",
    "\n",
    "\n",
    "import model \n",
    "import data_processing  \n",
    "\n",
    "process_imgs = data_processing.process_imgs\n",
    "get_model = model.get_model\n",
    "RusticModel = model.RusticModel\n",
    "ViTModel = model.ViTModel"
   ]
  },
  {
   "cell_type": "code",
   "execution_count": 14,
   "metadata": {},
   "outputs": [],
   "source": [
    "\n",
    "for handler in logging.root.handlers[:]:\n",
    "    logging.root.removeHandler(handler)\n",
    "\n",
    "logging.basicConfig(\n",
    "    filename=\"./logs/data_processing.log\",  # Nombre del archivo de log\n",
    "    filemode=\"a\",  # Modo de apertura en append para no sobrescribir\n",
    "    level=logging.INFO,\n",
    "    format=\"%(asctime)s - %(levelname)s - %(message)s\",\n",
    "    datefmt=\"%Y-%m-%d %H:%M:%S\",\n",
    ")"
   ]
  },
  {
   "cell_type": "code",
   "execution_count": 15,
   "metadata": {},
   "outputs": [],
   "source": [
    "def log_time(func):\n",
    "    def wrapper(*args, **kwargs):\n",
    "        start_time = time.time()\n",
    "        result = func(*args, **kwargs)\n",
    "        end_time = time.time()\n",
    "        logging.info(f\"{func.__name__}: {end_time - start_time:.2f} segundos\")\n",
    "        return result\n",
    "    return wrapper\n"
   ]
  },
  {
   "cell_type": "code",
   "execution_count": 16,
   "metadata": {},
   "outputs": [],
   "source": [
    "@log_time\n",
    "def load_and_process_data(data_directory, method):\n",
    "    return process_imgs(data_directory, method)\n",
    "\n",
    "@log_time\n",
    "def convert_to_tensors(X_train, X_val, y_train, y_val):\n",
    "    X_train = torch.tensor(X_train, dtype=torch.float32)\n",
    "    if X_train.dim() == 3:\n",
    "        X_train = X_train.unsqueeze(1)\n",
    "    else:\n",
    "        X_train = X_train.permute(0, 3, 1, 2)\n",
    "    y_train = torch.tensor(y_train, dtype=torch.long)\n",
    "    \n",
    "    X_val = torch.tensor(X_val, dtype=torch.float32)\n",
    "    if X_val.dim() == 3:\n",
    "        X_val = X_val.unsqueeze(1)\n",
    "    else:\n",
    "        X_val = X_val.permute(0, 3, 1, 2)\n",
    "    y_val = torch.tensor(y_val, dtype=torch.long)\n",
    "    \n",
    "    return X_train, X_val, y_train, y_val\n"
   ]
  },
  {
   "cell_type": "code",
   "execution_count": 17,
   "metadata": {},
   "outputs": [],
   "source": [
    "def create_dataloaders(X_train, y_train, X_val, y_val, batch_size=32):\n",
    "    train_dataset = TensorDataset(X_train, y_train)\n",
    "    val_dataset = TensorDataset(X_val, y_val)\n",
    "    train_loader = DataLoader(train_dataset, batch_size=batch_size, shuffle=True)\n",
    "    val_loader = DataLoader(val_dataset, batch_size=batch_size, shuffle=False)\n",
    "    return train_loader, val_loader\n"
   ]
  },
  {
   "cell_type": "code",
   "execution_count": 18,
   "metadata": {},
   "outputs": [
    {
     "name": "stdout",
     "output_type": "stream",
     "text": [
      "Ruta de datos: /home/rosewt/Documentos/codigos2024/SordoMudos/datasets/Static-Hand-Gestures-of-the-Peruvian-Sign-Language-Alphabet\n"
     ]
    }
   ],
   "source": [
    "# Directorio de datos\n",
    "\n",
    "data_directory = os.path.abspath(os.path.join(os.getcwd(), '..', '..', 'datasets', 'Static-Hand-Gestures-of-the-Peruvian-Sign-Language-Alphabet'))\n",
    "print(\"Ruta de datos:\", data_directory)\n",
    "\n",
    "\n",
    "# Cargar y procesar los datos\n",
    "X_train, X_val, y_train, y_val, label_mapping = load_and_process_data(data_directory, 'canny')\n",
    "\n",
    "# Convertir los datos a tensores\n",
    "X_train, X_val, y_train, y_val = convert_to_tensors(X_train, X_val, y_train, y_val)\n",
    "\n",
    "# Información sobre el conjunto de datos\n",
    "logging.info(f\"Tamaño de conjunto de entrenamiento: {len(X_train)}\")\n",
    "logging.info(f\"Tamaño de conjunto de validación: {len(X_val)}\")\n",
    "logging.info(f\"Diccionario de etiquetas: {label_mapping}\")\n"
   ]
  },
  {
   "cell_type": "code",
   "execution_count": 19,
   "metadata": {},
   "outputs": [],
   "source": [
    "# Crear los DataLoaders\n",
    "train_loader, val_loader = create_dataloaders(X_train, y_train, X_val, y_val)\n"
   ]
  },
  {
   "cell_type": "code",
   "execution_count": 20,
   "metadata": {},
   "outputs": [],
   "source": [
    "# Selección de modelo\n",
    "device = torch.device(\"cuda\" if torch.cuda.is_available() else \"cpu\")\n",
    "\n",
    "num_classes = len(label_mapping)\n",
    "\n",
    "name_model = 'rustic'\n",
    "\n",
    "model = get_model(name_model,num_classes).to(device)\n",
    "# Alternativa: model = ViTModel(num_classes).to(device)\n",
    "\n",
    "# Configuración del optimizador, función de pérdida y scheduler\n",
    "criterion = nn.CrossEntropyLoss()\n",
    "optimizer = optim.Adam(model.parameters(), lr=0.001)\n",
    "scheduler = StepLR(optimizer, step_size=5, gamma=0.1)\n"
   ]
  },
  {
   "cell_type": "code",
   "execution_count": 21,
   "metadata": {},
   "outputs": [],
   "source": [
    "# Ciclo de entrenamiento\n",
    "num_epochs = 20\n",
    "for epoch in range(num_epochs):\n",
    "    model.train()  # Modo entrenamiento\n",
    "    total_loss = 0\n",
    "    total_correct = 0\n",
    "\n",
    "    try:\n",
    "        for images, labels in train_loader:\n",
    "            images, labels = images.to(device), labels.to(device)\n",
    "            optimizer.zero_grad()\n",
    "\n",
    "            # Forward pass\n",
    "            outputs = model(images)\n",
    "            loss = criterion(outputs, labels)\n",
    "\n",
    "            # Backward pass y optimización\n",
    "            loss.backward()\n",
    "            optimizer.step()\n",
    "\n",
    "            total_loss += loss.item()\n",
    "            _, predicted = torch.max(outputs.data, 1)\n",
    "            total_correct += (predicted == labels).sum().item()\n",
    "        \n",
    "        scheduler.step()\n",
    "        \n",
    "        # Precisión en el conjunto de entrenamiento\n",
    "        train_accuracy = total_correct / len(train_loader.dataset)\n",
    "        logging.info(f\"Epoch [{epoch + 1}/{num_epochs}], Loss: {total_loss / len(train_loader):.4f}, Accuracy: {train_accuracy:.4f}\")\n",
    "\n",
    "        # Validación del modelo\n",
    "        model.eval()\n",
    "        val_loss = 0\n",
    "        val_correct = 0\n",
    "        with torch.no_grad(): \n",
    "            for images, labels in val_loader:\n",
    "                images, labels = images.to(device), labels.to(device)\n",
    "                outputs = model(images)\n",
    "                loss = criterion(outputs, labels)\n",
    "\n",
    "                val_loss += loss.item()\n",
    "                _, predicted = torch.max(outputs.data, 1)\n",
    "                val_correct += (predicted == labels).sum().item()\n",
    "\n",
    "        val_accuracy = val_correct / len(val_loader.dataset)\n",
    "        logging.info(f\"Validation Loss: {val_loss / len(val_loader):.4f}, Validation Accuracy: {val_accuracy:.4f}\")\n",
    "    except Exception as e:\n",
    "        logging.exception(f\"Error durante el entrenamiento: {e}\")\n",
    "        break\n"
   ]
  },
  {
   "cell_type": "code",
   "execution_count": 22,
   "metadata": {},
   "outputs": [],
   "source": [
    "# Guardar el modelo entrenado\n",
    "model_path = f\"{name_model}.pth\"\n",
    "torch.save(model.state_dict(), model_path)\n",
    "logging.info(f\"Modelo guardado exitosamente en {model_path}\")\n"
   ]
  }
 ],
 "metadata": {
  "kernelspec": {
   "display_name": "img",
   "language": "python",
   "name": "python3"
  },
  "language_info": {
   "codemirror_mode": {
    "name": "ipython",
    "version": 3
   },
   "file_extension": ".py",
   "mimetype": "text/x-python",
   "name": "python",
   "nbconvert_exporter": "python",
   "pygments_lexer": "ipython3",
   "version": "3.12.7"
  }
 },
 "nbformat": 4,
 "nbformat_minor": 2
}
